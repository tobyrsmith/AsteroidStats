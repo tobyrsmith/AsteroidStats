{
 "metadata": {
  "name": "",
  "signature": "sha256:b9cd280eebe7043a56411ddbd1744d47311c97018a304bc7342a150ee85fa7e7"
 },
 "nbformat": 3,
 "nbformat_minor": 0,
 "worksheets": [
  {
   "cells": [
    {
     "cell_type": "markdown",
     "metadata": {},
     "source": [
      "### TNO Discovery Rate"
     ]
    },
    {
     "cell_type": "code",
     "collapsed": false,
     "input": [
      "%matplotlib inline\n",
      "import numpy as np\n",
      "import matplotlib.pyplot as plt\n",
      "\n",
      "from astropy.io import ascii"
     ],
     "language": "python",
     "metadata": {},
     "outputs": [],
     "prompt_number": 2
    },
    {
     "cell_type": "code",
     "collapsed": false,
     "input": [
      "T = ascii.read(\"TNO.csv\")\n",
      "\n",
      "print T"
     ],
     "language": "python",
     "metadata": {},
     "outputs": [
      {
       "output_type": "stream",
       "stream": "stdout",
       "text": [
        "       Name             a       year\n",
        "----------------- ------------- ----\n",
        " 15760 (1992 QB1)  43.897996156 1992\n",
        "  15788 (1993 SB) 39.4450413027 1993\n",
        "  15789 (1993 SC) 39.4965638214 1993\n",
        " 15807 (1994 GV9) 43.9259528588 1994\n",
        "  15809 (1994 JS) 42.0891632367 1994\n",
        " 15810 (1994 JR1) 39.2647384001 1994\n",
        "  15820 (1994 TB) 39.5332960455 1994\n",
        " 15836 (1995 DA2) 36.6164584267 1995\n",
        "15874 (1996 TL66) 84.0014973165 1996\n",
        "15875 (1996 TP66) 39.5431636633 1996\n",
        "15883 (1997 CR29)  47.354432489 1997\n",
        "              ...           ...  ...\n",
        "      (2014 FX61) 43.8453639633 2014\n",
        "      (2014 FB62) 42.5816133917 2014\n",
        "      (2014 GE45) 65.1693666919 2014\n",
        "     (2014 QF433) 48.3302661027 2014\n",
        "     (2014 QL441) 49.0597590433 2014\n",
        "     (2014 QM441) 39.5873456509 2014\n",
        "     (2014 QN441)    46.2486876 2014\n",
        "      (2014 TZ33)   38.18916091 2014\n",
        "      (2014 UM33) 45.6923706482 2014\n",
        "     (2014 UT114) 31.0285538285 2014\n",
        "     (2014 UH192)    47.0804086 2014\n"
       ]
      }
     ],
     "prompt_number": 3
    },
    {
     "cell_type": "code",
     "collapsed": false,
     "input": [
      "year = T['year']"
     ],
     "language": "python",
     "metadata": {},
     "outputs": [],
     "prompt_number": 4
    },
    {
     "cell_type": "code",
     "collapsed": false,
     "input": [
      "print year[1:10]"
     ],
     "language": "python",
     "metadata": {},
     "outputs": [
      {
       "output_type": "stream",
       "stream": "stdout",
       "text": [
        "year\n",
        "----\n",
        "1993\n",
        "1993\n",
        "1994\n",
        "1994\n",
        "1994\n",
        "1994\n",
        "1995\n",
        "1996\n",
        "1996\n"
       ]
      }
     ],
     "prompt_number": 5
    },
    {
     "cell_type": "code",
     "collapsed": false,
     "input": [
      "Bins = np.arange(1990,2015,1)"
     ],
     "language": "python",
     "metadata": {},
     "outputs": [],
     "prompt_number": 6
    },
    {
     "cell_type": "code",
     "collapsed": false,
     "input": [
      "print Bins"
     ],
     "language": "python",
     "metadata": {},
     "outputs": [
      {
       "output_type": "stream",
       "stream": "stdout",
       "text": [
        "[1990 1991 1992 1993 1994 1995 1996 1997 1998 1999 2000 2001 2002 2003 2004\n",
        " 2005 2006 2007 2008 2009 2010 2011 2012 2013 2014]\n"
       ]
      }
     ],
     "prompt_number": 7
    },
    {
     "cell_type": "code",
     "collapsed": false,
     "input": [
      "Width = (Bins[1:] - Bins[:-1])"
     ],
     "language": "python",
     "metadata": {},
     "outputs": [],
     "prompt_number": 8
    },
    {
     "cell_type": "code",
     "collapsed": false,
     "input": [
      "Hist,BinEdge = np.histogram(year, bins=Bins)\n",
      "\n",
      "CHist = np.cumsum(Hist) + 1\n",
      "\n",
      "for i,j in enumerate(CHist):\n",
      "    print j, Bins[i]"
     ],
     "language": "python",
     "metadata": {},
     "outputs": [
      {
       "output_type": "stream",
       "stream": "stdout",
       "text": [
        "1 1990\n",
        "1 1991\n",
        "2 1992\n",
        "7 1993\n",
        "18 1994\n",
        "34 1995\n",
        "50 1996\n",
        "68 1997\n",
        "112 1998\n",
        "255 1999\n",
        "424 2000\n",
        "584 2001\n",
        "761 2002\n",
        "948 2003\n",
        "1112 2004\n",
        "1223 2005\n",
        "1315 2006\n",
        "1367 2007\n",
        "1385 2008\n",
        "1432 2009\n",
        "1487 2010\n",
        "1573 2011\n",
        "1601 2012\n",
        "1636 2013\n"
       ]
      }
     ],
     "prompt_number": 16
    },
    {
     "cell_type": "code",
     "collapsed": false,
     "input": [
      "tfont = {\n",
      "    'family' : 'DejaVu Serif',\n",
      "    'weight' : 'bold',\n",
      "    'size' : 12}\n",
      "\n",
      "plt.rc('font', **tfont)\n",
      "plt.rc(\"axes\", linewidth=3.0)\n",
      "plt.rc('axes', grid=False)\n",
      "plt.rc('axes', facecolor='1.0')"
     ],
     "language": "python",
     "metadata": {},
     "outputs": [],
     "prompt_number": 10
    },
    {
     "cell_type": "code",
     "collapsed": false,
     "input": [
      "fig, ax = plt.subplots(1,1)\n",
      "fig.set_size_inches(10,7)\n",
      "\n",
      "#ax.grid(b=True, which='major')\n",
      "\n",
      "#ax.set_ylim(0,200)\n",
      "ax.set_xlim(1990,2015)\n",
      "\n",
      "ax.spines['top'].set_visible(False)\n",
      "ax.spines['right'].set_visible(False)\n",
      "#ax.xaxis.set_tick_params('minor',width=2,length=0)\n",
      "\n",
      "ax.get_xaxis().tick_bottom()\n",
      "ax.get_yaxis().tick_left()\n",
      "\n",
      "ax.set_xlabel('Year')\n",
      "ax.set_ylabel('Cumulative Number of KBOs')\n",
      "\n",
      "ax.bar(Bins[:-1], CHist, width=Width, color='c');"
     ],
     "language": "python",
     "metadata": {},
     "outputs": [
      {
       "metadata": {},
       "output_type": "display_data",
       "png": "[encoded data removed]",
       "text": [
        "<matplotlib.figure.Figure at 0xb13a572c>"
       ]
      }
     ],
     "prompt_number": 13
    },
    {
     "cell_type": "code",
     "collapsed": false,
     "input": [
      "fig.savefig('TNODiscovery.png', dpi=300, bbox_inches='tight',pad_inches=0.05)"
     ],
     "language": "python",
     "metadata": {},
     "outputs": [],
     "prompt_number": 14
    },
    {
     "cell_type": "code",
     "collapsed": false,
     "input": [],
     "language": "python",
     "metadata": {},
     "outputs": []
    }
   ],
   "metadata": {}
  }
 ]
}